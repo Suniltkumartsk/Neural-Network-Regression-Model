{
 "cells": [
  {
   "cell_type": "code",
   "execution_count": null,
   "id": "847a5d42",
   "metadata": {},
   "outputs": [],
   "source": [
    "!pip install torch torchvision torchaudio"
   ]
  },
  {
   "cell_type": "code",
   "execution_count": 8,
   "id": "b5612e76",
   "metadata": {},
   "outputs": [],
   "source": [
    "import torch\n",
    "import torch.nn as nn\n",
    "import torch.optim as optim\n",
    "import pandas as pd\n",
    "from sklearn.preprocessing import MinMaxScaler"
   ]
  },
  {
   "cell_type": "code",
   "execution_count": 2,
   "id": "33035682",
   "metadata": {},
   "outputs": [],
   "source": [
    "df=pd.read_csv(\"Dataset.csv\")"
   ]
  },
  {
   "cell_type": "code",
   "execution_count": 3,
   "id": "27312ee7",
   "metadata": {},
   "outputs": [
    {
     "name": "stdout",
     "output_type": "stream",
     "text": [
      "<class 'pandas.core.frame.DataFrame'>\n",
      "RangeIndex: 15 entries, 0 to 14\n",
      "Data columns (total 2 columns):\n",
      " #   Column  Non-Null Count  Dtype\n",
      "---  ------  --------------  -----\n",
      " 0   Input   15 non-null     int64\n",
      " 1   Output  15 non-null     int64\n",
      "dtypes: int64(2)\n",
      "memory usage: 372.0 bytes\n"
     ]
    }
   ],
   "source": [
    "df.info()"
   ]
  },
  {
   "cell_type": "code",
   "execution_count": 21,
   "id": "43204e28",
   "metadata": {},
   "outputs": [],
   "source": [
    "X=df['Input']\n",
    "y=df['Output']\n",
    "y = y.values.reshape(-1, 1)   \n",
    "X = X.values.reshape(-1, 1)   \n"
   ]
  },
  {
   "cell_type": "code",
   "execution_count": 22,
   "id": "845bceba",
   "metadata": {},
   "outputs": [
    {
     "name": "stdout",
     "output_type": "stream",
     "text": [
      "[[ 1]\n",
      " [ 2]\n",
      " [ 3]\n",
      " [ 4]\n",
      " [ 5]\n",
      " [ 6]\n",
      " [ 7]\n",
      " [ 8]\n",
      " [ 9]\n",
      " [10]\n",
      " [11]\n",
      " [12]\n",
      " [13]\n",
      " [14]\n",
      " [15]]\n",
      "[[ 100]\n",
      " [ 200]\n",
      " [ 300]\n",
      " [ 400]\n",
      " [ 500]\n",
      " [ 600]\n",
      " [ 700]\n",
      " [ 800]\n",
      " [ 900]\n",
      " [1000]\n",
      " [1100]\n",
      " [1200]\n",
      " [1300]\n",
      " [1400]\n",
      " [1500]]\n"
     ]
    }
   ],
   "source": [
    "print(X)\n",
    "print(y)"
   ]
  },
  {
   "cell_type": "code",
   "execution_count": 23,
   "id": "7a99d3b1",
   "metadata": {},
   "outputs": [],
   "source": [
    "from sklearn.model_selection import train_test_split\n",
    "X_train, X_test, y_train, y_test = train_test_split(X, y, test_size=0.33, random_state=33)"
   ]
  },
  {
   "cell_type": "code",
   "execution_count": 24,
   "id": "f1a15485",
   "metadata": {},
   "outputs": [],
   "source": [
    "from sklearn.preprocessing import MinMaxScaler\n",
    "scaler=MinMaxScaler()\n",
    "X_train=scaler.fit_transform(X_train)\n",
    "X_test=scaler.transform(X_test)"
   ]
  },
  {
   "cell_type": "code",
   "execution_count": 36,
   "id": "e1a1365b",
   "metadata": {},
   "outputs": [],
   "source": [
    "X_train_tensor = torch.tensor(X_train, dtype=torch.float32)\n",
    "Y_train_tensor = torch.tensor(y_train, dtype=torch.float32).view(-1, 1)\n",
    "X_test_tensor = torch.tensor(X_test, dtype=torch.float32)\n",
    "Y_test_tensor = torch.tensor(y_test, dtype=torch.float32).view(-1, 1)"
   ]
  },
  {
   "cell_type": "code",
   "execution_count": 37,
   "id": "4e693097",
   "metadata": {},
   "outputs": [],
   "source": [
    "import torch.nn as nn\n",
    "class NeuralNet(nn.Module):\n",
    "  def __init__(self):\n",
    "    super().__init__()\n",
    "    self.fc1=nn.Linear(1,8)\n",
    "    self.fc2=nn.Linear(8,10)\n",
    "    self.fc3=nn.Linear(10,1)\n",
    "    self.relu=nn.ReLU()\n",
    "    self.history={'loss':[]}\n",
    "\n",
    "  def forward(self,x):\n",
    "    x=self.relu(self.fc1(x))\n",
    "    x=self.relu(self.fc2(x))\n",
    "    x=self.fc3(x)\n",
    "    return x"
   ]
  },
  {
   "cell_type": "code",
   "execution_count": 38,
   "id": "aaf99242",
   "metadata": {},
   "outputs": [],
   "source": [
    "leo = NeuralNet()\n",
    "criterion=nn.MSELoss()\n",
    "optimizer=torch.optim.RMSprop(leo.parameters(),lr=0.001)"
   ]
  },
  {
   "cell_type": "code",
   "execution_count": 39,
   "id": "990d9e18",
   "metadata": {},
   "outputs": [],
   "source": [
    "def train_model(leo,X_train,y_train,criterion,optimizer,epochs=2000):\n",
    "  for epoch in range(epochs):\n",
    "    optimizer.zero_grad()\n",
    "    loss = criterion(leo(X_train),y_train)\n",
    "    loss.backward()\n",
    "    optimizer.step()\n",
    "\n",
    "    leo.history['loss'].append(loss.item())\n",
    "    if epoch % 200 == 0:\n",
    "      print(f\"Epoch [{epoch}/{epochs}], Loss: {loss.item():.6f}\")\n"
   ]
  },
  {
   "cell_type": "code",
   "execution_count": 40,
   "id": "7cf4ded9",
   "metadata": {},
   "outputs": [
    {
     "name": "stdout",
     "output_type": "stream",
     "text": [
      "Epoch [0/2000], Loss: 693224.687500\n",
      "Epoch [200/2000], Loss: 690196.125000\n",
      "Epoch [400/2000], Loss: 683398.250000\n",
      "Epoch [600/2000], Loss: 672243.625000\n",
      "Epoch [800/2000], Loss: 656079.250000\n",
      "Epoch [1000/2000], Loss: 634380.750000\n",
      "Epoch [1200/2000], Loss: 606780.500000\n",
      "Epoch [1400/2000], Loss: 573100.375000\n",
      "Epoch [1600/2000], Loss: 533387.875000\n",
      "Epoch [1800/2000], Loss: 487954.937500\n"
     ]
    }
   ],
   "source": [
    "train_model(leo,X_train_tensor,Y_train_tensor,criterion,optimizer)"
   ]
  },
  {
   "cell_type": "code",
   "execution_count": 42,
   "id": "40069dd0",
   "metadata": {},
   "outputs": [
    {
     "name": "stdout",
     "output_type": "stream",
     "text": [
      "Test loss: 751418.125000\n"
     ]
    }
   ],
   "source": [
    "with torch.no_grad():\n",
    "  test_loss=criterion(leo(X_test_tensor),Y_test_tensor)\n",
    "  print(f\"Test loss: {test_loss.item():.6f}\")"
   ]
  },
  {
   "cell_type": "code",
   "execution_count": 44,
   "id": "e7940757",
   "metadata": {},
   "outputs": [
    {
     "data": {
      "text/plain": [
       "Text(0, 0.5, 'Loss')"
      ]
     },
     "execution_count": 44,
     "metadata": {},
     "output_type": "execute_result"
    },
    {
     "data": {
      "image/png": "[encoded data removed]",
      "text/plain": [
       "<Figure size 640x480 with 1 Axes>"
      ]
     },
     "metadata": {},
     "output_type": "display_data"
    }
   ],
   "source": [
    "import matplotlib.pyplot as plt\n",
    "plt.plot(leo.history['loss'])\n",
    "plt.title(\"Loss curve\")\n",
    "plt.xlabel(\"Epochs\")\n",
    "plt.ylabel(\"Loss\")"
   ]
  },
  {
   "cell_type": "code",
   "execution_count": null,
   "id": "c330ec2a",
   "metadata": {},
   "outputs": [],
   "source": []
  }
 ],
 "metadata": {
  "kernelspec": {
   "display_name": "Python 3 (ipykernel)",
   "language": "python",
   "name": "python3"
  },
  "language_info": {
   "codemirror_mode": {
    "name": "ipython",
    "version": 3
   },
   "file_extension": ".py",
   "mimetype": "text/x-python",
   "name": "python",
   "nbconvert_exporter": "python",
   "pygments_lexer": "ipython3",
   "version": "3.11.3"
  }
 },
 "nbformat": 4,
 "nbformat_minor": 5
}
